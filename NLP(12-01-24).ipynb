{
 "cells": [
  {
   "cell_type": "code",
   "execution_count": 1,
   "id": "d5fcf857-04fe-4397-acfe-eb43189846c4",
   "metadata": {},
   "outputs": [
    {
     "name": "stdout",
     "output_type": "stream",
     "text": [
      "Requirement already satisfied: nltk in c:\\users\\pooja shree\\appdata\\local\\programs\\python\\python39\\lib\\site-packages (3.8.1)\n",
      "Requirement already satisfied: click in c:\\users\\pooja shree\\appdata\\local\\programs\\python\\python39\\lib\\site-packages (from nltk) (8.1.7)\n",
      "Requirement already satisfied: joblib in c:\\users\\pooja shree\\appdata\\local\\programs\\python\\python39\\lib\\site-packages (from nltk) (1.3.2)\n",
      "Requirement already satisfied: regex>=2021.8.3 in c:\\users\\pooja shree\\appdata\\local\\programs\\python\\python39\\lib\\site-packages (from nltk) (2023.12.25)\n",
      "Requirement already satisfied: tqdm in c:\\users\\pooja shree\\appdata\\local\\programs\\python\\python39\\lib\\site-packages (from nltk) (4.66.1)\n",
      "Requirement already satisfied: colorama in c:\\users\\pooja shree\\appdata\\roaming\\python\\python39\\site-packages (from click->nltk) (0.4.3)\n"
     ]
    },
    {
     "name": "stderr",
     "output_type": "stream",
     "text": [
      "\n",
      "[notice] A new release of pip is available: 23.2.1 -> 23.3.2\n",
      "[notice] To update, run: python.exe -m pip install --upgrade pip\n"
     ]
    }
   ],
   "source": [
    "!pip install nltk"
   ]
  },
  {
   "cell_type": "code",
   "execution_count": 2,
   "id": "1b96a060-3157-4098-b2ca-89d76ed06fa8",
   "metadata": {},
   "outputs": [],
   "source": [
    "import nltk"
   ]
  },
  {
   "cell_type": "code",
   "execution_count": 3,
   "id": "e7dea9b8-d1fa-4956-8871-e9ffc1bdee30",
   "metadata": {},
   "outputs": [
    {
     "name": "stdout",
     "output_type": "stream",
     "text": [
      "showing info https://raw.githubusercontent.com/nltk/nltk_data/gh-pages/index.xml\n"
     ]
    },
    {
     "data": {
      "text/plain": [
       "True"
      ]
     },
     "execution_count": 3,
     "metadata": {},
     "output_type": "execute_result"
    }
   ],
   "source": [
    "nltk.download()"
   ]
  },
  {
   "cell_type": "code",
   "execution_count": 4,
   "id": "764f13d3-9ba0-4998-84e0-091c42326abf",
   "metadata": {},
   "outputs": [
    {
     "name": "stdout",
     "output_type": "stream",
     "text": [
      "*** Introductory Examples for the NLTK Book ***\n",
      "Loading text1, ..., text9 and sent1, ..., sent9\n",
      "Type the name of the text or sentence to view it.\n",
      "Type: 'texts()' or 'sents()' to list the materials.\n",
      "text1: Moby Dick by Herman Melville 1851\n",
      "text2: Sense and Sensibility by Jane Austen 1811\n",
      "text3: The Book of Genesis\n",
      "text4: Inaugural Address Corpus\n",
      "text5: Chat Corpus\n",
      "text6: Monty Python and the Holy Grail\n",
      "text7: Wall Street Journal\n",
      "text8: Personals Corpus\n",
      "text9: The Man Who Was Thursday by G . K . Chesterton 1908\n"
     ]
    }
   ],
   "source": [
    "from nltk.book import *"
   ]
  },
  {
   "cell_type": "code",
   "execution_count": 5,
   "id": "2f8dda64-6ab3-410a-8e9e-9cc3a1a688a5",
   "metadata": {},
   "outputs": [],
   "source": [
    "from nltk.corpus import brown"
   ]
  },
  {
   "cell_type": "code",
   "execution_count": 6,
   "id": "35c3a36a-6991-42fe-baeb-61c08f21cbe8",
   "metadata": {},
   "outputs": [
    {
     "data": {
      "text/plain": [
       "['adventure',\n",
       " 'belles_lettres',\n",
       " 'editorial',\n",
       " 'fiction',\n",
       " 'government',\n",
       " 'hobbies',\n",
       " 'humor',\n",
       " 'learned',\n",
       " 'lore',\n",
       " 'mystery',\n",
       " 'news',\n",
       " 'religion',\n",
       " 'reviews',\n",
       " 'romance',\n",
       " 'science_fiction']"
      ]
     },
     "execution_count": 6,
     "metadata": {},
     "output_type": "execute_result"
    }
   ],
   "source": [
    "brown.categories()"
   ]
  },
  {
   "cell_type": "code",
   "execution_count": 7,
   "id": "d75a3a75-9e4d-40cc-8a48-1102da0fa3ff",
   "metadata": {},
   "outputs": [],
   "source": [
    "from nltk.corpus import inaugural"
   ]
  },
  {
   "cell_type": "code",
   "execution_count": 8,
   "id": "7c7d0506-356f-4082-9917-563bb9bf09ef",
   "metadata": {},
   "outputs": [
    {
     "data": {
      "text/plain": [
       "['1789-Washington.txt',\n",
       " '1793-Washington.txt',\n",
       " '1797-Adams.txt',\n",
       " '1801-Jefferson.txt',\n",
       " '1805-Jefferson.txt',\n",
       " '1809-Madison.txt',\n",
       " '1813-Madison.txt',\n",
       " '1817-Monroe.txt',\n",
       " '1821-Monroe.txt',\n",
       " '1825-Adams.txt',\n",
       " '1829-Jackson.txt',\n",
       " '1833-Jackson.txt',\n",
       " '1837-VanBuren.txt',\n",
       " '1841-Harrison.txt',\n",
       " '1845-Polk.txt',\n",
       " '1849-Taylor.txt',\n",
       " '1853-Pierce.txt',\n",
       " '1857-Buchanan.txt',\n",
       " '1861-Lincoln.txt',\n",
       " '1865-Lincoln.txt',\n",
       " '1869-Grant.txt',\n",
       " '1873-Grant.txt',\n",
       " '1877-Hayes.txt',\n",
       " '1881-Garfield.txt',\n",
       " '1885-Cleveland.txt',\n",
       " '1889-Harrison.txt',\n",
       " '1893-Cleveland.txt',\n",
       " '1897-McKinley.txt',\n",
       " '1901-McKinley.txt',\n",
       " '1905-Roosevelt.txt',\n",
       " '1909-Taft.txt',\n",
       " '1913-Wilson.txt',\n",
       " '1917-Wilson.txt',\n",
       " '1921-Harding.txt',\n",
       " '1925-Coolidge.txt',\n",
       " '1929-Hoover.txt',\n",
       " '1933-Roosevelt.txt',\n",
       " '1937-Roosevelt.txt',\n",
       " '1941-Roosevelt.txt',\n",
       " '1945-Roosevelt.txt',\n",
       " '1949-Truman.txt',\n",
       " '1953-Eisenhower.txt',\n",
       " '1957-Eisenhower.txt',\n",
       " '1961-Kennedy.txt',\n",
       " '1965-Johnson.txt',\n",
       " '1969-Nixon.txt',\n",
       " '1973-Nixon.txt',\n",
       " '1977-Carter.txt',\n",
       " '1981-Reagan.txt',\n",
       " '1985-Reagan.txt',\n",
       " '1989-Bush.txt',\n",
       " '1993-Clinton.txt',\n",
       " '1997-Clinton.txt',\n",
       " '2001-Bush.txt',\n",
       " '2005-Bush.txt',\n",
       " '2009-Obama.txt',\n",
       " '2013-Obama.txt',\n",
       " '2017-Trump.txt',\n",
       " '2021-Biden.txt']"
      ]
     },
     "execution_count": 8,
     "metadata": {},
     "output_type": "execute_result"
    }
   ],
   "source": [
    "inaugural.fileids()"
   ]
  },
  {
   "cell_type": "code",
   "execution_count": 9,
   "id": "28313f33-a87e-4369-adf2-88cfdec19732",
   "metadata": {},
   "outputs": [
    {
     "data": {
      "text/plain": [
       "['Thank',\n",
       " 'you',\n",
       " '.',\n",
       " 'Thank',\n",
       " 'you',\n",
       " 'so',\n",
       " 'much',\n",
       " '.',\n",
       " 'Vice',\n",
       " 'President',\n",
       " 'Biden',\n",
       " ',',\n",
       " 'Mr',\n",
       " '.',\n",
       " 'Chief',\n",
       " 'Justice',\n",
       " ',',\n",
       " 'Members',\n",
       " 'of',\n",
       " 'the',\n",
       " 'United',\n",
       " 'States',\n",
       " 'Congress',\n",
       " ',',\n",
       " 'distinguished',\n",
       " 'guests',\n",
       " ',',\n",
       " 'and',\n",
       " 'fellow',\n",
       " 'citizens',\n",
       " ':',\n",
       " 'Each',\n",
       " 'time',\n",
       " 'we',\n",
       " 'gather',\n",
       " 'to',\n",
       " 'inaugurate',\n",
       " 'a',\n",
       " 'President',\n",
       " 'we',\n",
       " 'bear',\n",
       " 'witness',\n",
       " 'to',\n",
       " 'the',\n",
       " 'enduring',\n",
       " 'strength',\n",
       " 'of',\n",
       " 'our',\n",
       " 'Constitution',\n",
       " '.']"
      ]
     },
     "execution_count": 9,
     "metadata": {},
     "output_type": "execute_result"
    }
   ],
   "source": [
    "inaugural.words(fileids='2013-Obama.txt')[:50]"
   ]
  },
  {
   "cell_type": "code",
   "execution_count": 10,
   "id": "f7070f9b-7c54-4a91-9ed2-6cce90f17c90",
   "metadata": {},
   "outputs": [],
   "source": [
    "from nltk.corpus import webtext"
   ]
  },
  {
   "cell_type": "code",
   "execution_count": 11,
   "id": "0955f653-974f-4921-867b-6b938931fe58",
   "metadata": {},
   "outputs": [
    {
     "data": {
      "text/plain": [
       "['firefox.txt',\n",
       " 'grail.txt',\n",
       " 'overheard.txt',\n",
       " 'pirates.txt',\n",
       " 'singles.txt',\n",
       " 'wine.txt']"
      ]
     },
     "execution_count": 11,
     "metadata": {},
     "output_type": "execute_result"
    }
   ],
   "source": [
    "webtext.fileids()"
   ]
  },
  {
   "cell_type": "code",
   "execution_count": 16,
   "id": "f67d5c3e-d3b5-4134-aea3-20a692d8d830",
   "metadata": {},
   "outputs": [],
   "source": [
    "text1 = 'According to Bluetooth\\'s official website,Bluetooth was only intended as a placeholder until marketing could come up with something really cool. Later, when it came time to select a serious name, Bluetooth was to be replaced with either RadioWire or PAN (Personal Area Networking). PAN was the front runner, but an exhaustive search discovered it already had tens of thousands of hits throughout the internet.'\n"
   ]
  },
  {
   "cell_type": "code",
   "execution_count": 17,
   "id": "3b89c81c-ae65-4f9f-9341-140e2b36cde1",
   "metadata": {},
   "outputs": [
    {
     "data": {
      "text/plain": [
       "['According',\n",
       " 'to',\n",
       " \"Bluetooth's\",\n",
       " 'official',\n",
       " 'website,Bluetooth',\n",
       " 'was',\n",
       " 'only',\n",
       " 'intended',\n",
       " 'as',\n",
       " 'a',\n",
       " 'placeholder',\n",
       " 'until',\n",
       " 'marketing',\n",
       " 'could',\n",
       " 'come',\n",
       " 'up',\n",
       " 'with',\n",
       " 'something',\n",
       " 'really',\n",
       " 'cool.',\n",
       " 'Later,',\n",
       " 'when',\n",
       " 'it',\n",
       " 'came',\n",
       " 'time',\n",
       " 'to',\n",
       " 'select',\n",
       " 'a',\n",
       " 'serious',\n",
       " 'name,',\n",
       " 'Bluetooth',\n",
       " 'was',\n",
       " 'to',\n",
       " 'be',\n",
       " 'replaced',\n",
       " 'with',\n",
       " 'either',\n",
       " 'RadioWire',\n",
       " 'or',\n",
       " 'PAN',\n",
       " '(Personal',\n",
       " 'Area',\n",
       " 'Networking).',\n",
       " 'PAN',\n",
       " 'was',\n",
       " 'the',\n",
       " 'front',\n",
       " 'runner,',\n",
       " 'but',\n",
       " 'an',\n",
       " 'exhaustive',\n",
       " 'search',\n",
       " 'discovered',\n",
       " 'it',\n",
       " 'already',\n",
       " 'had',\n",
       " 'tens',\n",
       " 'of',\n",
       " 'thousands',\n",
       " 'of',\n",
       " 'hits',\n",
       " 'throughout',\n",
       " 'the',\n",
       " 'internet.']"
      ]
     },
     "execution_count": 17,
     "metadata": {},
     "output_type": "execute_result"
    }
   ],
   "source": [
    "text1.split()"
   ]
  },
  {
   "cell_type": "code",
   "execution_count": 18,
   "id": "0328b8b0-ccff-4496-83ed-2879d9d2c563",
   "metadata": {},
   "outputs": [],
   "source": [
    "import nltk"
   ]
  },
  {
   "cell_type": "code",
   "execution_count": 19,
   "id": "aa166bee-e741-4da2-8c99-079cc3ba8a08",
   "metadata": {},
   "outputs": [],
   "source": [
    "fd = nltk.FreqDist(text1.split())"
   ]
  },
  {
   "cell_type": "code",
   "execution_count": 20,
   "id": "948ebb61-0642-4742-b088-223930e80f6d",
   "metadata": {},
   "outputs": [
    {
     "data": {
      "text/plain": [
       "FreqDist({'to': 3, 'was': 3, 'a': 2, 'with': 2, 'it': 2, 'PAN': 2, 'the': 2, 'of': 2, 'According': 1, \"Bluetooth's\": 1, ...})"
      ]
     },
     "execution_count": 20,
     "metadata": {},
     "output_type": "execute_result"
    }
   ],
   "source": [
    "fd"
   ]
  },
  {
   "cell_type": "code",
   "execution_count": null,
   "id": "8606c89c-3929-4029-9db2-69e9f16868a8",
   "metadata": {},
   "outputs": [],
   "source": []
  }
 ],
 "metadata": {
  "kernelspec": {
   "display_name": "Python 3 (ipykernel)",
   "language": "python",
   "name": "python3"
  },
  "language_info": {
   "codemirror_mode": {
    "name": "ipython",
    "version": 3
   },
   "file_extension": ".py",
   "mimetype": "text/x-python",
   "name": "python",
   "nbconvert_exporter": "python",
   "pygments_lexer": "ipython3",
   "version": "3.11.5"
  }
 },
 "nbformat": 4,
 "nbformat_minor": 5
}
